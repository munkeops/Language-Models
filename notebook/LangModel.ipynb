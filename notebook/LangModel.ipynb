{
 "cells": [
  {
   "cell_type": "code",
   "execution_count": 1,
   "metadata": {},
   "outputs": [
    {
     "name": "stderr",
     "output_type": "stream",
     "text": [
      "[nltk_data] Downloading package brown to\n",
      "[nltk_data]     C:\\Users\\Rohan\\AppData\\Roaming\\nltk_data...\n",
      "[nltk_data]   Package brown is already up-to-date!\n"
     ]
    }
   ],
   "source": [
    "from nltk.corpus import brown\n",
    "import nltk\n",
    "from nltk.probability import FreqDist\n",
    "\n",
    "from pprint import pprint\n",
    "nltk.download('brown')\n",
    "from nltk.util import ngrams\n",
    "from collections import Counter, defaultdict\n",
    "import math\n",
    "\n",
    "from nltk import word_tokenize"
   ]
  },
  {
   "cell_type": "code",
   "execution_count": 354,
   "metadata": {},
   "outputs": [],
   "source": [
    "class LangModel():\n",
    "    \n",
    "    def __init__(self,corpus):\n",
    "        self.corpus=corpus\n",
    "        self.vocab=None\n",
    "        self.fd=None\n",
    "        self.numgrams=[]\n",
    "    \n",
    "#calc stats such as fd and vocab        \n",
    "    def calcStats(self):\n",
    "        textCorpus = nltk.Text(self.corpus.words(self.corpus.fileids()))\n",
    "        textFD = FreqDist(t.lower() for t in textCorpus)\n",
    "        vocab=list(textFD.keys())\n",
    "        unkcount=0\n",
    "        for key in vocab:\n",
    "            if(textFD[key]==1):\n",
    "                unkcount=unkcount+1\n",
    "        vocab.append(\"unk\")\n",
    "        textFD[\"unk\"]=unkcount\n",
    "        self.fd=textFD\n",
    "        self.vocab=vocab\n",
    "        self.numNgrams()\n",
    "        return\n",
    "        \n",
    "#to display collocations       \n",
    "    def collocations(self,topn):\n",
    "        #corpus is brown by default\n",
    "        n = 2\n",
    "        bigrams = ngrams(self.corpus.words(), n)\n",
    "        brownNgramFD = nltk.FreqDist(token for token in bigrams)\n",
    "        brownNgramFD.plot(topn)\n",
    "        return\n",
    "\n",
    "#calc the number of ngrams\n",
    "    def numNgrams(self):\n",
    "#         n = 2\n",
    "        for i in range(2,6):\n",
    "            n_grams = ngrams(self.corpus.words(), i)\n",
    "            NgramFD = nltk.FreqDist(token for token in n_grams)\n",
    "            self.numgrams.append(len(NgramFD))\n",
    "        return\n",
    "\n",
    "#make a ngram model with or without add 1\n",
    "    def makeModel(self,n,add1=False):\n",
    "        # Create a placeholder for model\n",
    "        model = defaultdict(lambda: defaultdict(lambda: 0))\n",
    "        # Count frequency of co-occurance \n",
    "        data=brown.sents()\n",
    "        for sentence in data:\n",
    "            for it in range(len(sentence)):\n",
    "                sentence[it]=sentence[it].lower()\n",
    "            for n_grams in ngrams(sentence,n):#pad_right=True, pad_left=True,):\n",
    "                pre=n_grams[0:-1]\n",
    "                post=n_grams[-1]\n",
    "                model[pre][post] += 1\n",
    "                model[pre][\"unseen\"]=0\n",
    "        # Let's transform the counts to probabilities\n",
    "        total=0\n",
    "        unkcount=0\n",
    "        extend=0\n",
    "        if(add1):\n",
    "            if(n==2):\n",
    "                extend=len(self.vocab)\n",
    "            if(n==3):\n",
    "                extend=self.numgrams[0]\n",
    "            if(n==4):\n",
    "                extend=self.numgrams[1]\n",
    "            if(n==5):\n",
    "                extend=self.numgrams[2]\n",
    "        print(\"extended value: \",extend)\n",
    "        for wprev in model:\n",
    "#             total_count = float(sum(model[wprev].values()))\n",
    "            total_count=len(model[wprev])\n",
    "#             total=total+total_count\n",
    "            for wcurr in model[wprev]:\n",
    "#                 if(model[wprev][wcurr]==1):\n",
    "#                     unkcount+=1               \n",
    "                if(add1):\n",
    "                    model[wprev][wcurr]+=1\n",
    "                    total_count+=extend\n",
    "                    model[wprev][\"unseen\"]=1\n",
    "                else:\n",
    "                    model[wprev][\"unseen\"]=0\n",
    "                model[wprev][wcurr] /= total_count\n",
    "\n",
    "        return model\n",
    "    \n",
    "#make a language model with gte smoothing\n",
    "    def makeGTmodel(self,n):\n",
    "        # Create a placeholder for model\n",
    "        model = defaultdict(lambda: defaultdict(lambda: 0))\n",
    "        # Count frequency of co-occurance \n",
    "        data=brown.sents()\n",
    "        for sentence in data:\n",
    "            for it in range(len(sentence)):\n",
    "                sentence[it]=sentence[it].lower()\n",
    "            for n_grams in ngrams(sentence,n):#pad_right=True, pad_left=True,):\n",
    "                pre=n_grams[0:-1]\n",
    "                post=n_grams[-1]\n",
    "                model[pre][post] += 1\n",
    "                model[pre][\"unseen\"]=0\n",
    "        # Let's transform the counts to probabilities\n",
    "        \n",
    "        for wprev in model:\n",
    "#             total_count = float(sum(model[wprev].values()))\n",
    "            total_count=len(model[wprev])\n",
    "#             total=total+total_count\n",
    "            counts=defaultdict(lambda: 0)\n",
    "            for wcurr in model[wprev]:\n",
    "                counts[model[wprev][wcurr]]+=1\n",
    "            for wcurr in model[wprev]:\n",
    "                if(counts[model[wprev][wcurr]]!=0):\n",
    "                    model[wprev][wcurr]=((model[wprev][wcurr]+1)*counts[model[wprev][wcurr]+1]/counts[model[wprev][wcurr]])/total_count\n",
    "                else:\n",
    "                    model[wprev][wcurr]=counts[1]/total_count\n",
    "#                 if(model[wprev][wcurr]==1):\n",
    "#                     unkcount+=1               \n",
    "#         \n",
    "        return model\n",
    "\n",
    "#work in progress KND   \n",
    "    def KneserNeyDiscountingModel(self,n):\n",
    "         # Create a placeholder for model\n",
    "        model = defaultdict(lambda: defaultdict(lambda: 0))\n",
    "        # Count frequency of co-occurance \n",
    "        data=brown.sents()\n",
    "        for sentence in data:\n",
    "            for it in range(len(sentence)):\n",
    "                sentence[it]=sentence[it].lower()\n",
    "            for n_grams in ngrams(sentence,n):#pad_right=True, pad_left=True,):\n",
    "                pre=n_grams[0:-1]\n",
    "                post=n_grams[-1]\n",
    "                model[pre][post] += 1\n",
    "                model[pre][\"unseen\"]=0\n",
    "        # Let's transform the counts to probabilities\n",
    "        \n",
    "        for wprev in model:\n",
    "#             total_count = float(sum(model[wprev].values()))\n",
    "            total_count=len(model[wprev])\n",
    "#             total=total+total_count\n",
    "            counts=defaultdict(lambda: 0)\n",
    "            for wcurr in model[wprev]:\n",
    "                counts[model[wprev][wcurr]]+=1\n",
    "            for wcurr in model[wprev]:\n",
    "                if(counts[model[wprev][wcurr]]!=0):\n",
    "                    model[wprev][wcurr]=((model[wprev][wcurr]+1)*counts[model[wprev][wcurr]+1]/counts[model[wprev][wcurr]])/total_count\n",
    "                else:\n",
    "                    model[wprev][wcurr]=counts[1]/total_count\n",
    "#                 if(model[wprev][wcurr]==1):\n",
    "#                     unkcount+=1               \n",
    "#         \n",
    "        return model\n",
    "        \n",
    "\n",
    "#generate sentences with the trained model\n",
    "    def sentGen(self,start,n,model):\n",
    "#         model=models[n-2]\n",
    "        count=0\n",
    "#         para=start.split()\n",
    "        start=start.lower()\n",
    "        para=nltk.word_tokenize(start)\n",
    "        \n",
    "        finalpara=start\n",
    "        prob=1;\n",
    "        MaxKey=\" \"\n",
    "        while(MaxKey!=\".\" and count<30):\n",
    "            if(n==2):\n",
    "                pos=dict(model[para[-1],])\n",
    "            if(n==3):\n",
    "                pos=dict(model[para[-2],para[-1]])\n",
    "            if(n==4):\n",
    "                pos=dict(model[para[-3],para[-2],para[-1]])\n",
    "            if(n==5):\n",
    "                pos=dict(model[para[-4],para[-3],para[-2],para[-1]])\n",
    "            try:\n",
    "        #        \n",
    "                MaxKey = max(pos, key=pos.get)\n",
    "                prob=prob*pos[MaxKey]\n",
    "                para.append(MaxKey)\n",
    "    #             if(n==2):\n",
    "    #                 print(MaxKey)\n",
    "            except:\n",
    "                pass\n",
    "            try:\n",
    "                finalpara=finalpara+\" \"+MaxKey\n",
    "            except TypeError:\n",
    "                pass\n",
    "            count=count+1\n",
    "\n",
    "        print(\"\\n\"+finalpara)\n",
    "        print(\"prob : \",prob)\n",
    "        logprob=math.log(prob,2)\n",
    "        print(\"logprob : \",logprob)\n",
    "        perp=1/((1/count)*prob)\n",
    "        perplog=math.pow(2,1/((1/count)*logprob))\n",
    "        print(\"reg perp : \",perp)\n",
    "        print(\"log perp : \",perplog)\n",
    "        return\n",
    "    \n",
    "#find prob of a sentence given a trained model   \n",
    "    def sentProb(self,sent,n,model,printprob=False):\n",
    "#         para=sent.split()\n",
    "#         print(para)\n",
    "        sent=sent.lower()\n",
    "        para=nltk.word_tokenize(sent)\n",
    "        paralen=len(para)\n",
    "        \n",
    "        for i in range(paralen):\n",
    "            if para[i] not in self.vocab:\n",
    "                para[i]=\"unk\"\n",
    "        i=0\n",
    "        prob=1\n",
    "        prob1=0\n",
    "        avgprob=0\n",
    "        count=0\n",
    "        sentprob=[]\n",
    "        while(i<(paralen-(n-1))):\n",
    "            if(n==2):\n",
    "                prob1=model[para[i],][para[i+1]]\n",
    "#                 print(para[i],para[i+1],prob1)\n",
    "                if(prob1==0):\n",
    "                    prob1=model[para[i],][\"unseen\"]\n",
    "            if(n==3):\n",
    "                prob1=model[para[i],para[i+1]][para[i+2]]\n",
    "                if(prob1==0):\n",
    "                    prob1=model[para[i],para[i+1]][\"unseen\"]\n",
    "            if(n==4):\n",
    "                prob1=model[para[i],para[i+1],para[i+2]][para[i+3]]\n",
    "                if(prob1==0):\n",
    "                    prob1=model[para[i],para[i+1],para[i+2]][\"unseen\"]\n",
    "            if(n==5):\n",
    "                prob1=model[para[i],para[i+1],para[i+2],para[i+3]][para[i+4]]\n",
    "                if(prob1==0):\n",
    "                    prob1=model[para[i],para[i+1],para[i+2],para[i+3]][\"unseen\"]\n",
    "\n",
    "            prob*=prob1\n",
    "            if(printprob):\n",
    "                print(\"prob :\",prob)\n",
    "\n",
    "            if(para[i+n-1]==\".\"):\n",
    "#             if(i%20==0):\n",
    "                sentprob.append(prob)\n",
    "#                 print(\"prob each sentence : \",prob)\n",
    "#                 print(\"prob at \"+str(i)+\"th\"+\" ngram : \",prob)\n",
    "                avgprob=avgprob+prob\n",
    "                prob=1\n",
    "                count=count+1\n",
    "            \n",
    "            i=i+1\n",
    "        avgprob=avgprob/count\n",
    "        print(\"sent probs : \",sentprob)\n",
    "        if(avgprob==0):\n",
    "            print(\"Average Prob of sent : 0\")\n",
    "        else:\n",
    "            print(\"avgprob : \",avgprob)\n",
    "            logprob=math.log(avgprob,2)\n",
    "            print(\"logprob : \",logprob)\n",
    "            perp=paralen/(avgprob)\n",
    "            perplog=math.pow(2,(1/((1/paralen)*logprob)))\n",
    "            print(\"reg perp : \",perp)\n",
    "            print(\"log perp : \",perplog)\n",
    "        return"
   ]
  },
  {
   "cell_type": "code",
   "execution_count": 355,
   "metadata": {},
   "outputs": [],
   "source": [
    "lm=LangModel(brown)"
   ]
  },
  {
   "cell_type": "code",
   "execution_count": 356,
   "metadata": {},
   "outputs": [],
   "source": [
    "lm.calcStats()"
   ]
  },
  {
   "cell_type": "markdown",
   "metadata": {},
   "source": [
    "# FREQUENCY DISTRIBUTION"
   ]
  },
  {
   "cell_type": "code",
   "execution_count": 294,
   "metadata": {},
   "outputs": [
    {
     "data": {
      "image/png": "[encoded data removed]",
      "text/plain": [
       "<Figure size 432x288 with 1 Axes>"
      ]
     },
     "metadata": {
      "needs_background": "light"
     },
     "output_type": "display_data"
    },
    {
     "data": {
      "text/plain": [
       "<matplotlib.axes._subplots.AxesSubplot at 0x263ed824880>"
      ]
     },
     "execution_count": 294,
     "metadata": {},
     "output_type": "execute_result"
    }
   ],
   "source": [
    "lm.fd.plot(20)"
   ]
  },
  {
   "cell_type": "markdown",
   "metadata": {},
   "source": [
    "# NUM OF N-GRAMS"
   ]
  },
  {
   "cell_type": "code",
   "execution_count": 390,
   "metadata": {},
   "outputs": [
    {
     "name": "stdout",
     "output_type": "stream",
     "text": [
      "num of 2 grams :455267\n",
      "num of 3 grams :907494\n",
      "num of 4 grams :1096987\n",
      "num of 5 grams :1144405\n"
     ]
    }
   ],
   "source": [
    "# print(lm.numgrams)\n",
    "for i in range(len(lm.numgrams)):\n",
    "    print(\"num of \"+str(i+2)+\" grams :\"+str(lm.numgrams[i]))\n",
    "\n"
   ]
  },
  {
   "cell_type": "markdown",
   "metadata": {},
   "source": [
    "# COLLOCATIONS "
   ]
  },
  {
   "cell_type": "code",
   "execution_count": 279,
   "metadata": {},
   "outputs": [
    {
     "data": {
      "image/png": "[encoded data removed]",
      "text/plain": [
       "<Figure size 432x288 with 1 Axes>"
      ]
     },
     "metadata": {
      "needs_background": "light"
     },
     "output_type": "display_data"
    }
   ],
   "source": [
    "lm.collocations(50)"
   ]
  },
  {
   "cell_type": "markdown",
   "metadata": {},
   "source": [
    "# MODEL GENERATION"
   ]
  },
  {
   "cell_type": "code",
   "execution_count": 315,
   "metadata": {},
   "outputs": [
    {
     "name": "stdout",
     "output_type": "stream",
     "text": [
      "extended value:  49816\n",
      "extended value:  0\n"
     ]
    }
   ],
   "source": [
    "bimodeladd1=lm.makeModel(2,add1=True)\n",
    "bimodel=lm.makeModel(2)\n",
    "bimodelgt=lm.makeGTmodel(2)"
   ]
  },
  {
   "cell_type": "code",
   "execution_count": 368,
   "metadata": {},
   "outputs": [
    {
     "name": "stdout",
     "output_type": "stream",
     "text": [
      "extended value:  0\n",
      "extended value:  455267\n"
     ]
    }
   ],
   "source": [
    "trimodel=lm.makeModel(3)\n",
    "trimodeladd1=lm.makeModel(3,add1=True)\n",
    "trimodelgt=lm.makeGTmodel(3)"
   ]
  },
  {
   "cell_type": "code",
   "execution_count": 369,
   "metadata": {},
   "outputs": [
    {
     "name": "stdout",
     "output_type": "stream",
     "text": [
      "extended value:  907494\n",
      "extended value:  0\n"
     ]
    }
   ],
   "source": [
    "quadmodeladd1=lm.makeModel(4,add1=True)\n",
    "quadmodel=lm.makeModel(4)\n",
    "quadmodelgt=lm.makeGTmodel(4)"
   ]
  },
  {
   "cell_type": "code",
   "execution_count": 375,
   "metadata": {},
   "outputs": [
    {
     "name": "stdout",
     "output_type": "stream",
     "text": [
      "extended value:  1096987\n",
      "extended value:  0\n"
     ]
    }
   ],
   "source": [
    "pentmodeladd1=lm.makeModel(5,add1=True)\n",
    "pentmodel=lm.makeModel(5)\n",
    "pentmodelgt=lm.makeGTmodel(5)"
   ]
  },
  {
   "cell_type": "markdown",
   "metadata": {},
   "source": [
    "# SENTENCE GENERATION"
   ]
  },
  {
   "cell_type": "code",
   "execution_count": 378,
   "metadata": {},
   "outputs": [
    {
     "name": "stdout",
     "output_type": "stream",
     "text": [
      "\n",
      "a year ago today , when the democrats were fretting and frolicking in los angeles and john f. kennedy .\n",
      "prob :  1.0172526041666666e-05\n",
      "logprob :  -16.584962500721158\n",
      "reg perp :  1572864.0\n",
      "log perp :  0.5123745261007371\n",
      "\n",
      "a year ago , when a reporter was standing near mantle's locker , mickey walked up and volunteered an anecdote .\n",
      "prob :  1.507040895061728e-07\n",
      "logprob :  -22.661778097771986\n",
      "reg perp :  119439360.00000004\n",
      "log perp :  0.5766273000079152\n",
      "\n",
      "a year , and the other hand , the first time in the world .\n",
      "prob :  8.475787091770914e-09\n",
      "logprob :  -26.81400550571744\n",
      "reg perp :  1533780858.254641\n",
      "log perp :  0.7145855954286131\n",
      "\n",
      "i was a few years ago , and the first , and the first , and the first , and the first , and the first , and the first ,\n",
      "prob :  2.045708117160605e-21\n",
      "logprob :  -68.72788967744616\n",
      "reg perp :  1.4664848688990537e+22\n",
      "log perp :  0.7389230213318027\n"
     ]
    }
   ],
   "source": [
    "lm.sentGen(\"A year ago today\",5,pentmodel)\n",
    "lm.sentGen(\"A year ago\",4,quadmodel)\n",
    "lm.sentGen(\"A year\",3,trimodel)\n",
    "lm.sentGen(\"I\",2,bimodel)"
   ]
  },
  {
   "cell_type": "markdown",
   "metadata": {},
   "source": [
    "# SENTENCE PROBABILITIES"
   ]
  },
  {
   "cell_type": "code",
   "execution_count": 381,
   "metadata": {},
   "outputs": [],
   "source": [
    "test=\"A day will come when we can live.\"\n",
    "\n",
    "# test=\"Language processing is an intricate cognitive function that appears to be sensitive to different sorts of information, some linguistic, some not. It interacts with other cognitive functions, such as attention and memory, and on some accounts these cognitive functions are embedded into language processing itself. It is also exquisitely sensitive to time, such that on some accounts, certain information types are used early in the processing stream, and others used later. The revelations about language processing are based on measurements that we make during particular tasks, and since there are a wide variety of such tasks, we often end up with disparate results across studies. This, of course, is true of any scientific endeavor and only further work will help clear up these disparities. Furthermore, because we are attempting to understand a system that emerges from the intricacies of the neurological system, we are essentially building theories of the inherently unobservable by using observable phenomena (e.g., speaker intuitions, reaction times, reading times, etc.). Thus, we can never be completely sure if our hypotheses and theories are correct, and this is also true of any science. Even so, these roadblocks do not stop us from trying to penetrate such a complex system, and the more we try, the more we learn. Finally, it turns out that the more we learn about a system that is working under optimal conditions, the more we can use that knowledge to understand disordered systems, and hence bridge the basic and clinical sciences.\""
   ]
  },
  {
   "cell_type": "code",
   "execution_count": 382,
   "metadata": {},
   "outputs": [
    {
     "name": "stdout",
     "output_type": "stream",
     "text": [
      "prob : 0.011641971575446023\n",
      "prob : 0.00022388406875857738\n",
      "prob : 7.862841601502718e-06\n",
      "prob : 4.4031912968415225e-07\n",
      "prob : 5.750756664490877e-08\n",
      "prob : 1.3575206252608576e-08\n",
      "prob : 2.026150186956504e-10\n",
      "prob : 2.4937233070233895e-11\n",
      "sent probs :  [2.4937233070233895e-11]\n",
      "avgprob :  2.4937233070233895e-11\n",
      "logprob :  -35.222907645044984\n",
      "reg perp :  360906118760.3355\n",
      "log perp :  0.8376877419771358\n",
      "\n",
      "\n",
      "prob : 1.5330652696642153e-05\n",
      "prob : 1.8650361004329854e-11\n",
      "prob : 1.7823246514934546e-16\n",
      "prob : 5.721633679881077e-21\n",
      "prob : 2.5185708410030835e-25\n",
      "prob : 9.23055311806427e-29\n",
      "prob : 9.441112346022392e-35\n",
      "prob : 1.0659612670372695e-39\n",
      "sent probs :  [1.0659612670372695e-39]\n",
      "avgprob :  1.0659612670372695e-39\n",
      "logprob :  -129.46304068358742\n",
      "reg perp :  8.44308351373271e+39\n",
      "log perp :  0.9529563841604359\n",
      "\n",
      "\n",
      "prob : 0.58587843967342\n",
      "prob : 0.010015016062793503\n",
      "prob : 0.0011107226687016823\n",
      "prob : 0.00010662937619536151\n",
      "prob : 8.438894100451612e-05\n",
      "prob : 5.176273332990766e-05\n",
      "prob : 1.2361249750425708e-06\n",
      "prob : 8.55778828875626e-08\n",
      "sent probs :  [8.55778828875626e-08]\n",
      "avgprob :  8.55778828875626e-08\n",
      "logprob :  -23.478186770548746\n",
      "reg perp :  105167359.7934731\n",
      "log perp :  0.7666635294177798\n"
     ]
    }
   ],
   "source": [
    "lm.sentProb(test,2,bimodel,printprob=True)\n",
    "print(\"\\n\")\n",
    "lm.sentProb(test,2,bimodeladd1,printprob=True)\n",
    "print(\"\\n\")\n",
    "lm.sentProb(test,2,bimodelgt,printprob=True)"
   ]
  },
  {
   "cell_type": "code",
   "execution_count": 383,
   "metadata": {},
   "outputs": [
    {
     "name": "stdout",
     "output_type": "stream",
     "text": [
      "sent probs :  [0.0]\n",
      "Average Prob of sent : 0\n",
      "\n",
      "\n",
      "sent probs :  [6.422587644717491e-19]\n",
      "avgprob :  6.422587644717491e-19\n",
      "logprob :  -60.43347913011425\n",
      "reg perp :  1.401304349252813e+19\n",
      "log perp :  0.9019228425842513\n",
      "\n",
      "\n",
      "sent probs :  [0.002598821110466414]\n",
      "avgprob :  0.002598821110466414\n",
      "logprob :  -8.587926955171067\n",
      "reg perp :  3463.108701000492\n",
      "log perp :  0.4836439205600683\n"
     ]
    }
   ],
   "source": [
    "lm.sentProb(test,3,trimodel)\n",
    "print(\"\\n\")\n",
    "lm.sentProb(test,3,trimodeladd1)\n",
    "print(\"\\n\")\n",
    "lm.sentProb(test,3,trimodelgt)"
   ]
  },
  {
   "cell_type": "code",
   "execution_count": 384,
   "metadata": {},
   "outputs": [
    {
     "name": "stdout",
     "output_type": "stream",
     "text": [
      "sent probs :  [0.0]\n",
      "Average Prob of sent : 0\n",
      "\n",
      "\n",
      "sent probs :  [0.0]\n",
      "Average Prob of sent : 0\n",
      "\n",
      "\n",
      "sent probs :  [0]\n",
      "Average Prob of sent : 0\n"
     ]
    }
   ],
   "source": [
    "lm.sentProb(test,4,quadmodel)\n",
    "print(\"\\n\")\n",
    "lm.sentProb(test,4,quadmodeladd1)\n",
    "print(\"\\n\")\n",
    "lm.sentProb(test,4,quadmodelgt)\n"
   ]
  },
  {
   "cell_type": "code",
   "execution_count": 386,
   "metadata": {},
   "outputs": [
    {
     "name": "stdout",
     "output_type": "stream",
     "text": [
      "sent probs :  [0]\n",
      "Average Prob of sent : 0\n",
      "\n",
      "\n",
      "sent probs :  [0]\n",
      "Average Prob of sent : 0\n",
      "\n",
      "\n",
      "sent probs :  [0]\n",
      "Average Prob of sent : 0\n"
     ]
    }
   ],
   "source": [
    "lm.sentProb(test,5,pentmodel)\n",
    "print(\"\\n\")\n",
    "lm.sentProb(test,5,pentmodeladd1)\n",
    "print(\"\\n\")\n",
    "lm.sentProb(test,5,pentmodelgt)"
   ]
  },
  {
   "cell_type": "code",
   "execution_count": null,
   "metadata": {},
   "outputs": [],
   "source": []
  },
  {
   "cell_type": "code",
   "execution_count": null,
   "metadata": {},
   "outputs": [],
   "source": []
  }
 ],
 "metadata": {
  "kernelspec": {
   "display_name": "Python 3",
   "language": "python",
   "name": "python3"
  },
  "language_info": {
   "codemirror_mode": {
    "name": "ipython",
    "version": 3
   },
   "file_extension": ".py",
   "mimetype": "text/x-python",
   "name": "python",
   "nbconvert_exporter": "python",
   "pygments_lexer": "ipython3",
   "version": "3.8.1"
  }
 },
 "nbformat": 4,
 "nbformat_minor": 4
}
